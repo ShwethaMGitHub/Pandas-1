{
 "cells": [
  {
   "cell_type": "markdown",
   "metadata": {},
   "source": [
    "1) How-to-count-distance-to-the-previous-zero\n",
    "For each value, count the difference of the distance from the previous zero (or the start\n",
    "of the Series, whichever is closer) and if there are no previous zeros,print the position\n",
    "Consider a DataFrame df where there is an integer column {'X':[7, 2, 0, 3, 4, 2, 5, 0, 3, 4]}\n",
    "The values should therefore be [1, 2, 0, 1, 2, 3, 4, 0, 1, 2]. Make this a new column 'Y'.\n",
    "import pandas as pd\n",
    "df = pd.DataFrame({'X': [7, 2, 0, 3, 4, 2, 5, 0, 3, 4]})"
   ]
  },
  {
   "cell_type": "code",
   "execution_count": 18,
   "metadata": {},
   "outputs": [
    {
     "name": "stdout",
     "output_type": "stream",
     "text": [
      "   X  Y\n",
      "0  7  1\n",
      "1  2  2\n",
      "2  0  0\n",
      "3  3  1\n",
      "4  4  2\n",
      "5  2  3\n",
      "6  5  4\n",
      "7  0  0\n",
      "8  3  1\n",
      "9  4  2\n"
     ]
    }
   ],
   "source": [
    "import pandas as pd\n",
    "import numpy as np\n",
    "df = pd.DataFrame({'X': [7, 2, 0, 3, 4, 2, 5, 0, 3, 4]})\n",
    "a = df['X'].tolist()\n",
    "z = None\n",
    "b=[]\n",
    "for i in range(len(a)):\n",
    "    if a[i] != 0 and z== None:\n",
    "        b.append(i+1)\n",
    "    elif a[i] == 0:\n",
    "        b.append(0)\n",
    "        z = 0\n",
    "    else:\n",
    "        z += 1\n",
    "        b.append(z)\n",
    "df['Y']=pd.Series(b)\n",
    "\n",
    "print(df)"
   ]
  },
  {
   "cell_type": "markdown",
   "metadata": {},
   "source": [
    "2) Create a DatetimeIndex that contains each business day of 2015 and use it to index a\n",
    "Series of random numbers."
   ]
  },
  {
   "cell_type": "code",
   "execution_count": 20,
   "metadata": {},
   "outputs": [
    {
     "name": "stdout",
     "output_type": "stream",
     "text": [
      "2015-01-01    0.531907\n",
      "2015-01-02    0.323406\n",
      "2015-01-05    0.841963\n",
      "2015-01-06    0.909544\n",
      "2015-01-07    0.595867\n",
      "2015-01-08    0.385709\n",
      "2015-01-09    0.299641\n",
      "2015-01-12    0.283797\n",
      "2015-01-13    0.080548\n",
      "2015-01-14    0.005046\n",
      "2015-01-15    0.997386\n",
      "2015-01-16    0.394690\n",
      "2015-01-19    0.211429\n",
      "2015-01-20    0.667080\n",
      "2015-01-21    0.799999\n",
      "2015-01-22    0.960638\n",
      "2015-01-23    0.808040\n",
      "2015-01-26    0.825168\n",
      "2015-01-27    0.398855\n",
      "2015-01-28    0.592304\n",
      "2015-01-29    0.965590\n",
      "2015-01-30    0.512031\n",
      "2015-02-02    0.396731\n",
      "2015-02-03    0.591712\n",
      "2015-02-04    0.693994\n",
      "2015-02-05    0.297397\n",
      "2015-02-06    0.684180\n",
      "2015-02-09    0.770910\n",
      "2015-02-10    0.008090\n",
      "2015-02-11    0.418530\n",
      "                ...   \n",
      "2015-11-20    0.061822\n",
      "2015-11-23    0.637179\n",
      "2015-11-24    0.622455\n",
      "2015-11-25    0.748547\n",
      "2015-11-26    0.704130\n",
      "2015-11-27    0.095652\n",
      "2015-11-30    0.653830\n",
      "2015-12-01    0.830104\n",
      "2015-12-02    0.011103\n",
      "2015-12-03    0.873796\n",
      "2015-12-04    0.638425\n",
      "2015-12-07    0.146001\n",
      "2015-12-08    0.956015\n",
      "2015-12-09    0.501724\n",
      "2015-12-10    0.992274\n",
      "2015-12-11    0.593280\n",
      "2015-12-14    0.167531\n",
      "2015-12-15    0.040529\n",
      "2015-12-16    0.871452\n",
      "2015-12-17    0.603108\n",
      "2015-12-18    0.660720\n",
      "2015-12-21    0.616380\n",
      "2015-12-22    0.648956\n",
      "2015-12-23    0.134088\n",
      "2015-12-24    0.742072\n",
      "2015-12-25    0.624034\n",
      "2015-12-28    0.338295\n",
      "2015-12-29    0.495265\n",
      "2015-12-30    0.149911\n",
      "2015-12-31    0.016243\n",
      "Freq: B, Length: 261, dtype: float64\n"
     ]
    }
   ],
   "source": [
    "dti = pd.date_range(start='2015-01-01', end='2015-12-31', freq='B') \n",
    "s = pd.Series(np.random.rand(len(dti)), index=dti)\n",
    "print(s)"
   ]
  },
  {
   "cell_type": "markdown",
   "metadata": {},
   "source": [
    "3) Find the sum of the values in s for every Wednesday"
   ]
  },
  {
   "cell_type": "code",
   "execution_count": 21,
   "metadata": {},
   "outputs": [
    {
     "data": {
      "text/plain": [
       "27.022320933704275"
      ]
     },
     "execution_count": 21,
     "metadata": {},
     "output_type": "execute_result"
    }
   ],
   "source": [
    "s[dti.weekday == 2].sum()"
   ]
  },
  {
   "cell_type": "markdown",
   "metadata": {},
   "source": [
    "4) Average For each calendar month"
   ]
  },
  {
   "cell_type": "code",
   "execution_count": 37,
   "metadata": {},
   "outputs": [
    {
     "data": {
      "text/plain": [
       "2015-01-31    0.563211\n",
       "2015-02-28    0.505613\n",
       "2015-03-31    0.489552\n",
       "2015-04-30    0.464941\n",
       "2015-05-31    0.487831\n",
       "2015-06-30    0.466974\n",
       "2015-07-31    0.525853\n",
       "2015-08-31    0.454955\n",
       "2015-09-30    0.599094\n",
       "2015-10-31    0.494685\n",
       "2015-11-30    0.568997\n",
       "2015-12-31    0.506578\n",
       "Freq: M, dtype: float64"
      ]
     },
     "execution_count": 37,
     "metadata": {},
     "output_type": "execute_result"
    }
   ],
   "source": [
    "s.resample('M').mean()"
   ]
  },
  {
   "cell_type": "markdown",
   "metadata": {},
   "source": [
    "5) For each group of four consecutive calendar months in s, find the date on which the\n",
    "highest value occurred."
   ]
  },
  {
   "cell_type": "code",
   "execution_count": 40,
   "metadata": {},
   "outputs": [
    {
     "name": "stderr",
     "output_type": "stream",
     "text": [
      "C:\\Users\\shwetha_g05\\AppData\\Local\\Continuum\\anaconda3\\lib\\site-packages\\ipykernel_launcher.py:1: FutureWarning: pd.TimeGrouper is deprecated and will be removed; Please use pd.Grouper(freq=...)\n",
      "  \"\"\"Entry point for launching an IPython kernel.\n"
     ]
    },
    {
     "data": {
      "text/plain": [
       "2015-01-31   2015-01-15\n",
       "2015-05-31   2015-04-30\n",
       "2015-09-30   2015-09-11\n",
       "2016-01-31   2015-10-26\n",
       "dtype: datetime64[ns]"
      ]
     },
     "execution_count": 40,
     "metadata": {},
     "output_type": "execute_result"
    }
   ],
   "source": [
    "s.groupby(pd.TimeGrouper('4M')).idxmax()"
   ]
  },
  {
   "cell_type": "code",
   "execution_count": null,
   "metadata": {},
   "outputs": [],
   "source": []
  }
 ],
 "metadata": {
  "kernelspec": {
   "display_name": "Python 3",
   "language": "python",
   "name": "python3"
  },
  "language_info": {
   "codemirror_mode": {
    "name": "ipython",
    "version": 3
   },
   "file_extension": ".py",
   "mimetype": "text/x-python",
   "name": "python",
   "nbconvert_exporter": "python",
   "pygments_lexer": "ipython3",
   "version": "3.7.0"
  }
 },
 "nbformat": 4,
 "nbformat_minor": 2
}
